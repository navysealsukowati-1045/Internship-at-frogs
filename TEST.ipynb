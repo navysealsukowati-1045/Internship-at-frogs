import numpy as np
import matplotlib.pyplot as plt
from scipy.signal import firwin, freqz

# parameter FIR
numtaps = 15
cutoff = 2
fs = 50

# desain filter dengan berbagai window
windows = {
    "Rectangular (Boxcar)": "boxcar",
    "Hann": "hann",
    "Hamming": "hamming",
    "Blackman": "blackman",
    "Kaiser β=8.6": ("kaiser", 8.6)
}

plt.figure(figsize=(12, 6))

# loop untuk plot semua window
for name, w in windows.items():
    h = firwin(numtaps=numtaps, cutoff=cutoff, fs=fs, window=w)
    w_freq, H = freqz(h, worN=8000, fs=fs)  # freq response
    plt.plot(w_freq, 20*np.log10(np.abs(H)), label=name)

plt.title(f"FIR Low-pass Filter {numtaps} taps, Fc={cutoff}Hz, Fs={fs}Hz")
plt.xlabel("Frequency (Hz)")
plt.ylabel("Magnitude (dB)")
plt.ylim(-100, 5)
plt.grid(True)
plt.legend()
plt.show()
